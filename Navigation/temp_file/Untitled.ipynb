{
 "cells": [
  {
   "cell_type": "code",
   "execution_count": 4,
   "id": "3cceeb85",
   "metadata": {},
   "outputs": [
    {
     "name": "stdout",
     "output_type": "stream",
     "text": [
      "(-3, 3)\n"
     ]
    }
   ],
   "source": [
    "import numpy as np\n",
    "h_wall = {   1:[-6,6,6],\n",
    "                          1.5:[-6,-3,3],\n",
    "                          2:[-6,6,-6],\n",
    "                          2.5:[-2,1,3],\n",
    "                          3.5:[2,5,3],\n",
    "                          5.5:[-6,-1,-1],\n",
    "                          6.5:[0,5,-1]}\n",
    "v_wall = np.array([[-6,6,-6],[3,6,-2],[-6,-1,0],[3,6,2],[-6,6,6]])\n",
    "room_wall={  1: [v_wall[0]]+[v_wall[1]]+[h_wall[1]]+[h_wall[1.5]],\n",
    "                          2: [v_wall[1]]+[v_wall[3]]+[h_wall[1]]+[h_wall[2.5]],\n",
    "                          3: [v_wall[3]] + [v_wall[4]] + [h_wall[1]] + [h_wall[3.5]],\n",
    "                          5: [v_wall[0]] + [v_wall[2]] + [h_wall[2]] + [h_wall[5.5]],\n",
    "                          6: [v_wall[2]] + [v_wall[4]] + [h_wall[2]] + [h_wall[6.5]],\n",
    "        }\n",
    "wall_in_room = room_wall[1]\n",
    "wall = {'v1':[(wall_in_room[0][2],wall_in_room[0][0]),(wall_in_room[0][2],wall_in_room[0][1])],\n",
    "                'v2':[(wall_in_room[1][2],wall_in_room[1][0]),(wall_in_room[1][2],wall_in_room[1][1])],\n",
    "                'h' :[(wall_in_room[2][0],wall_in_room[2][2]),(wall_in_room[2][1],wall_in_room[2][2])],\n",
    "                'dr':[(wall_in_room[3][0],wall_in_room[3][2]),(wall_in_room[3][1],wall_in_room[3][2])]\n",
    "                }\n",
    "print(wall['dr'][1])"
   ]
  },
  {
   "cell_type": "code",
   "execution_count": 2,
   "id": "8b2da13f",
   "metadata": {},
   "outputs": [
    {
     "ename": "AttributeError",
     "evalue": "'collections.OrderedDict' object has no attribute 'parameters'",
     "output_type": "error",
     "traceback": [
      "\u001b[0;31m---------------------------------------------------------------------------\u001b[0m",
      "\u001b[0;31mAttributeError\u001b[0m                            Traceback (most recent call last)",
      "\u001b[0;32m<ipython-input-2-829e08d534ed>\u001b[0m in \u001b[0;36m<module>\u001b[0;34m\u001b[0m\n\u001b[1;32m      1\u001b[0m \u001b[0;32mimport\u001b[0m \u001b[0mtorch\u001b[0m\u001b[0;34m\u001b[0m\u001b[0;34m\u001b[0m\u001b[0m\n\u001b[1;32m      2\u001b[0m \u001b[0mlz\u001b[0m \u001b[0;34m=\u001b[0m \u001b[0mtorch\u001b[0m\u001b[0;34m.\u001b[0m\u001b[0mload\u001b[0m\u001b[0;34m(\u001b[0m\u001b[0;34m'actor_4000.pt'\u001b[0m\u001b[0;34m)\u001b[0m\u001b[0;34m\u001b[0m\u001b[0;34m\u001b[0m\u001b[0m\n\u001b[0;32m----> 3\u001b[0;31m \u001b[0;32mfor\u001b[0m \u001b[0mparameter\u001b[0m \u001b[0;32min\u001b[0m \u001b[0mlz\u001b[0m\u001b[0;34m.\u001b[0m\u001b[0mparameters\u001b[0m\u001b[0;34m(\u001b[0m\u001b[0;34m)\u001b[0m\u001b[0;34m:\u001b[0m\u001b[0;34m\u001b[0m\u001b[0;34m\u001b[0m\u001b[0m\n\u001b[0m\u001b[1;32m      4\u001b[0m     \u001b[0mprint\u001b[0m\u001b[0;34m(\u001b[0m\u001b[0mparameter\u001b[0m\u001b[0;34m)\u001b[0m\u001b[0;34m\u001b[0m\u001b[0;34m\u001b[0m\u001b[0m\n",
      "\u001b[0;31mAttributeError\u001b[0m: 'collections.OrderedDict' object has no attribute 'parameters'"
     ]
    }
   ],
   "source": [
    "import torch\n",
    "lz = torch.load('actor_4000.pt')\n",
    "for parameter in lz.parameters():\n",
    "    print(parameter)"
   ]
  },
  {
   "cell_type": "code",
   "execution_count": 5,
   "id": "422c627e",
   "metadata": {},
   "outputs": [],
   "source": [
    "# -*- coding: utf-8 -*-\n",
    "import numpy as np\n",
    "from crowd_sim.envs.utils.utils import point_to_segment_dist as DIS\n",
    "\n",
    "class Distance_to_Wall():\n",
    "    def __init__(self,px,py):\n",
    "        self.h_wall = {   1:[-6,6,6],\n",
    "                          1.5:[-6,-3,3],\n",
    "                          2:[-6,6,-6],\n",
    "                          2.5:[-2,1,3],\n",
    "                          3.5:[2,5,3],\n",
    "                          5.5:[-6,-1,-1],\n",
    "                          6.5:[0,5,-1]}\n",
    "        self.v_wall = np.array([[-6,6,-6],[3,6,-2],[-6,-1,0],[3,6,2],[-6,6,6]])\n",
    "        self.room_wall={  1: [self.v_wall[0]]+[self.v_wall[1]]+[self.h_wall[1]]+[self.h_wall[1.5]],\n",
    "                          2: [self.v_wall[1]]+[self.v_wall[3]]+[self.h_wall[1]]+[self.h_wall[2.5]],\n",
    "                          3: [self.v_wall[3]] + [self.v_wall[4]] + [self.h_wall[1]] + [self.h_wall[3.5]],\n",
    "                          5: [self.v_wall[0]] + [self.v_wall[2]] + [self.h_wall[2]] + [self.h_wall[5.5]],\n",
    "                          6: [self.v_wall[2]] + [self.v_wall[4]] + [self.h_wall[2]] + [self.h_wall[6.5]],\n",
    "        }\n",
    "        self.px = px\n",
    "        self.py = py\n",
    "        self.in_room = self.Which_Room()\n",
    "    def generate_wall_point(self,wall_in_room):\n",
    "        wall = {'v1':[(wall_in_room[0][2],wall_in_room[0][0]),(wall_in_room[0][2],wall_in_room[0][1])],\n",
    "                'v2':[(wall_in_room[1][2],wall_in_room[1][0]),(wall_in_room[1][2],wall_in_room[1][1])],\n",
    "                'h' :[(wall_in_room[2][0],wall_in_room[2][2]),(wall_in_room[2][1],wall_in_room[2][2])],\n",
    "                'dr':[(wall_in_room[3][0],wall_in_room[3][2]),(wall_in_room[3][1],wall_in_room[3][2])]\n",
    "                }\n",
    "        return wall\n",
    "\n",
    "\n",
    "    def Which_Room(self):\n",
    "        if self.px>-6 and self.px<6:\n",
    "            if self.py>-6 and self.py<6:\n",
    "                if self.py>-6 and self.py<-1:\n",
    "                    if self.px>-6 and self.px<0:\n",
    "                        return 5\n",
    "                    elif self.px>0 and self.px<6:\n",
    "                        return 6\n",
    "                elif self.py>-1 and self.py<3:\n",
    "                    return 4\n",
    "                elif self.py>3 and self.py<6:\n",
    "                    if self.px>-6 and self.px<-2:\n",
    "                        return 1\n",
    "                    elif self.px>-2 and self.px<2:\n",
    "                        return 2\n",
    "                    elif self.px>2 and self.px<6:\n",
    "                        return 3\n",
    "                elif self.py==-1:\n",
    "                    if self.px>-2 and self.px<0:\n",
    "                        return 5.5\n",
    "                    elif self.px>4 and self.px<6:\n",
    "                        return 6.5\n",
    "                elif self.py==3:\n",
    "                    if self.px>-4 and self.px<-2:\n",
    "                        return 1.5\n",
    "                    elif self.px>0 and self.px<2:\n",
    "                        return 2.5\n",
    "                    elif self.px>4 and self.px<6:\n",
    "                        return 3.5\n",
    "        return 0\n",
    "    def min_distance(self):\n",
    "        if int(self.in_room) == self.in_room and self.in_room != 0:\n",
    "            if self.in_room == 4:\n",
    "                min_dis = []\n",
    "                for key,value in self.room_wall.items():\n",
    "                    dis = DIS(value[3][0],value[3][2],value[3][1],value[3][2],self.px,self.py)\n",
    "                    min_dis.append(dis)\n",
    "                min_dis.append(np.abs(self.px-6))\n",
    "                min_dis.append(np.abs(self.px+6))\n",
    "                return min(min_dis)\n",
    "            else:\n",
    "                return min(np.abs(self.px-self.room_wall[self.in_room][0][2]),np.abs(self.px-self.room_wall[self.in_room][1][2]),np.abs(self.py - self.room_wall[self.in_room][2][2]),\n",
    "                           DIS(self.room_wall[self.in_room][3][0],self.room_wall[self.in_room][3][2],self.room_wall[self.in_room][3][1],self.room_wall[self.in_room][3][2],self.px,self.py))\n",
    "        elif int(self.in_room) != self.in_room:\n",
    "            return min(np.abs(self.px-self.h_wall[self.in_room][0]),np.abs(self.px-self.h_wall[self.in_room][1]))\n",
    "        else:\n",
    "            return -1\n",
    "\n"
   ]
  },
  {
   "cell_type": "code",
   "execution_count": 10,
   "id": "1fec2df5",
   "metadata": {},
   "outputs": [
    {
     "name": "stdout",
     "output_type": "stream",
     "text": [
      "1\n"
     ]
    },
    {
     "ename": "TypeError",
     "evalue": "'int' object is not subscriptable",
     "output_type": "error",
     "traceback": [
      "\u001b[0;31m---------------------------------------------------------------------------\u001b[0m",
      "\u001b[0;31mTypeError\u001b[0m                                 Traceback (most recent call last)",
      "\u001b[0;32m<ipython-input-10-0cbaff93d36d>\u001b[0m in \u001b[0;36m<module>\u001b[0;34m\u001b[0m\n\u001b[1;32m      7\u001b[0m         \u001b[0;32mfor\u001b[0m \u001b[0mwall\u001b[0m \u001b[0;32min\u001b[0m \u001b[0mstatic_state\u001b[0m\u001b[0;34m.\u001b[0m\u001b[0mroom_wall\u001b[0m\u001b[0;34m:\u001b[0m\u001b[0;34m\u001b[0m\u001b[0;34m\u001b[0m\u001b[0m\n\u001b[1;32m      8\u001b[0m             \u001b[0mprint\u001b[0m\u001b[0;34m(\u001b[0m\u001b[0mwall\u001b[0m\u001b[0;34m)\u001b[0m\u001b[0;34m\u001b[0m\u001b[0;34m\u001b[0m\u001b[0m\n\u001b[0;32m----> 9\u001b[0;31m             \u001b[0mdoor_wall\u001b[0m \u001b[0;34m=\u001b[0m \u001b[0mstatic_state\u001b[0m\u001b[0;34m.\u001b[0m\u001b[0mgenerate_wall_point\u001b[0m\u001b[0;34m(\u001b[0m\u001b[0mwall\u001b[0m\u001b[0;34m)\u001b[0m\u001b[0;34m[\u001b[0m\u001b[0;34m'dr'\u001b[0m\u001b[0;34m]\u001b[0m\u001b[0;34m\u001b[0m\u001b[0;34m\u001b[0m\u001b[0m\n\u001b[0m\u001b[1;32m     10\u001b[0m             \u001b[0;32mif\u001b[0m \u001b[0mWall_Collide\u001b[0m\u001b[0;34m(\u001b[0m\u001b[0mpx\u001b[0m\u001b[0;34m,\u001b[0m\u001b[0mpy\u001b[0m\u001b[0;34m,\u001b[0m\u001b[0mex\u001b[0m\u001b[0;34m,\u001b[0m\u001b[0mey\u001b[0m\u001b[0;34m,\u001b[0m\u001b[0mdoor_wall\u001b[0m\u001b[0;34m,\u001b[0m\u001b[0mhuman\u001b[0m\u001b[0;34m.\u001b[0m\u001b[0mradius\u001b[0m\u001b[0;34m)\u001b[0m\u001b[0;34m:\u001b[0m\u001b[0;34m\u001b[0m\u001b[0;34m\u001b[0m\u001b[0m\n\u001b[1;32m     11\u001b[0m                 \u001b[0mcollision\u001b[0m \u001b[0;34m=\u001b[0m \u001b[0;32mTrue\u001b[0m\u001b[0;34m\u001b[0m\u001b[0;34m\u001b[0m\u001b[0m\n",
      "\u001b[0;32m~/CrowdNav/crowd_sim/envs/utils/wall_distance.py\u001b[0m in \u001b[0;36mgenerate_wall_point\u001b[0;34m(self, wall_in_room)\u001b[0m\n\u001b[1;32m     23\u001b[0m         \u001b[0mself\u001b[0m\u001b[0;34m.\u001b[0m\u001b[0min_room\u001b[0m \u001b[0;34m=\u001b[0m \u001b[0mself\u001b[0m\u001b[0;34m.\u001b[0m\u001b[0mWhich_Room\u001b[0m\u001b[0;34m(\u001b[0m\u001b[0;34m)\u001b[0m\u001b[0;34m\u001b[0m\u001b[0;34m\u001b[0m\u001b[0m\n\u001b[1;32m     24\u001b[0m     \u001b[0;32mdef\u001b[0m \u001b[0mgenerate_wall_point\u001b[0m\u001b[0;34m(\u001b[0m\u001b[0mself\u001b[0m\u001b[0;34m,\u001b[0m\u001b[0mwall_in_room\u001b[0m\u001b[0;34m)\u001b[0m\u001b[0;34m:\u001b[0m\u001b[0;34m\u001b[0m\u001b[0;34m\u001b[0m\u001b[0m\n\u001b[0;32m---> 25\u001b[0;31m         wall = {'v1':[(wall_in_room[0][2],wall_in_room[0][0]),(wall_in_room[0][2],wall_in_room[0][1])],\n\u001b[0m\u001b[1;32m     26\u001b[0m                 \u001b[0;34m'v2'\u001b[0m\u001b[0;34m:\u001b[0m\u001b[0;34m[\u001b[0m\u001b[0;34m(\u001b[0m\u001b[0mwall_in_room\u001b[0m\u001b[0;34m[\u001b[0m\u001b[0;36m1\u001b[0m\u001b[0;34m]\u001b[0m\u001b[0;34m[\u001b[0m\u001b[0;36m2\u001b[0m\u001b[0;34m]\u001b[0m\u001b[0;34m,\u001b[0m\u001b[0mwall_in_room\u001b[0m\u001b[0;34m[\u001b[0m\u001b[0;36m1\u001b[0m\u001b[0;34m]\u001b[0m\u001b[0;34m[\u001b[0m\u001b[0;36m0\u001b[0m\u001b[0;34m]\u001b[0m\u001b[0;34m)\u001b[0m\u001b[0;34m,\u001b[0m\u001b[0;34m(\u001b[0m\u001b[0mwall_in_room\u001b[0m\u001b[0;34m[\u001b[0m\u001b[0;36m1\u001b[0m\u001b[0;34m]\u001b[0m\u001b[0;34m[\u001b[0m\u001b[0;36m2\u001b[0m\u001b[0;34m]\u001b[0m\u001b[0;34m,\u001b[0m\u001b[0mwall_in_room\u001b[0m\u001b[0;34m[\u001b[0m\u001b[0;36m1\u001b[0m\u001b[0;34m]\u001b[0m\u001b[0;34m[\u001b[0m\u001b[0;36m1\u001b[0m\u001b[0;34m]\u001b[0m\u001b[0;34m)\u001b[0m\u001b[0;34m]\u001b[0m\u001b[0;34m,\u001b[0m\u001b[0;34m\u001b[0m\u001b[0;34m\u001b[0m\u001b[0m\n\u001b[1;32m     27\u001b[0m                 \u001b[0;34m'h'\u001b[0m \u001b[0;34m:\u001b[0m\u001b[0;34m[\u001b[0m\u001b[0;34m(\u001b[0m\u001b[0mwall_in_room\u001b[0m\u001b[0;34m[\u001b[0m\u001b[0;36m2\u001b[0m\u001b[0;34m]\u001b[0m\u001b[0;34m[\u001b[0m\u001b[0;36m0\u001b[0m\u001b[0;34m]\u001b[0m\u001b[0;34m,\u001b[0m\u001b[0mwall_in_room\u001b[0m\u001b[0;34m[\u001b[0m\u001b[0;36m2\u001b[0m\u001b[0;34m]\u001b[0m\u001b[0;34m[\u001b[0m\u001b[0;36m2\u001b[0m\u001b[0;34m]\u001b[0m\u001b[0;34m)\u001b[0m\u001b[0;34m,\u001b[0m\u001b[0;34m(\u001b[0m\u001b[0mwall_in_room\u001b[0m\u001b[0;34m[\u001b[0m\u001b[0;36m2\u001b[0m\u001b[0;34m]\u001b[0m\u001b[0;34m[\u001b[0m\u001b[0;36m1\u001b[0m\u001b[0;34m]\u001b[0m\u001b[0;34m,\u001b[0m\u001b[0mwall_in_room\u001b[0m\u001b[0;34m[\u001b[0m\u001b[0;36m2\u001b[0m\u001b[0;34m]\u001b[0m\u001b[0;34m[\u001b[0m\u001b[0;36m2\u001b[0m\u001b[0;34m]\u001b[0m\u001b[0;34m)\u001b[0m\u001b[0;34m]\u001b[0m\u001b[0;34m,\u001b[0m\u001b[0;34m\u001b[0m\u001b[0;34m\u001b[0m\u001b[0m\n",
      "\u001b[0;31mTypeError\u001b[0m: 'int' object is not subscriptable"
     ]
    }
   ],
   "source": [
    "from crowd_sim.envs.utils.wall_distance import Distance_to_Wall as Dis\n",
    "from crowd_sim.envs.utils.wall import Wall_Collide\n",
    "static_state = Dis(0,0)\n",
    "room = static_state.Which_Room()\n",
    "if int(room) == room and room != 0:\n",
    "    if room == 4:\n",
    "        for wall in static_state.room_wall:\n",
    "            print(wall)\n",
    "            door_wall = static_state.generate_wall_point(wall)['dr']\n",
    "            if Wall_Collide(px,py,ex,ey,door_wall,human.radius):\n",
    "                collision = True\n",
    "        if Wall_Collide(px, py, ex, ey, [(-6,-6),(-6,6)], human.radius) or Wall_Collide(px, py, ex, ey, [(6,-6),(6,6)], human.radius):\n",
    "            collision = True\n",
    "        if collision != True and Dis.min_distance(px, py) < dmin:\n",
    "            dmin = Dis.min_distance(px, py)\n",
    "    else:\n",
    "        wall = static_state.room_wall[room]\n",
    "        wall_point = static_state.generate_wall_point(wall)\n",
    "        for single_wall in wall_point.values():\n",
    "            if Wall_Collide(px,py,ex,ey,single_wall,human.radius):\n",
    "                collision = True\n",
    "            elif Dis.min_distance(px, py) < dmin:\n",
    "                dmin = Dis.min_distance(px, py)\n",
    "elif int(room) != room:\n",
    "    pass\n",
    "else:\n",
    "    collision = True\n",
    "print(collision)"
   ]
  },
  {
   "cell_type": "code",
   "execution_count": 13,
   "id": "ea539777",
   "metadata": {},
   "outputs": [
    {
     "data": {
      "image/png": "[encoded data removed]",
      "text/plain": [
       "<Figure size 504x504 with 1 Axes>"
      ]
     },
     "metadata": {
      "needs_background": "light"
     },
     "output_type": "display_data"
    }
   ],
   "source": [
    "import matplotlib.pyplot as plt\n",
    "fig, ax = plt.subplots(figsize=(7, 7))\n",
    "ax.tick_params(labelsize=16)\n",
    "ax.set_xlim(-5, 5)\n",
    "ax.set_ylim(-5, 5)\n",
    "ax.set_xlabel('x(m)', fontsize=16)\n",
    "ax.set_ylabel('y(m)', fontsize=16)\n",
    "wall_class = Dis(0,0)\n",
    "for wall_v in wall_class.v_wall:\n",
    "    wall_v_line = plt.Line2D((wall_v[2], wall_v[2]),\n",
    "                               (wall_v[0], wall_v[1]),\n",
    "                               color='black', ls='solid')\n",
    "    ax.add_artist(wall_v_line)\n",
    "for wall_h in wall_class.h_wall.values():\n",
    "    wall_h_line = plt.Line2D((wall_h[0], wall_h[1]),\n",
    "                               (wall_h[2], wall_h[2]),\n",
    "                               color='black', ls='solid')\n",
    "    ax.add_artist(wall_h_line)\n",
    "plt.show()"
   ]
  }
 ],
 "metadata": {
  "kernelspec": {
   "display_name": "Python 3",
   "language": "python",
   "name": "python3"
  },
  "language_info": {
   "codemirror_mode": {
    "name": "ipython",
    "version": 3
   },
   "file_extension": ".py",
   "mimetype": "text/x-python",
   "name": "python",
   "nbconvert_exporter": "python",
   "pygments_lexer": "ipython3",
   "version": "3.6.13"
  },
  "toc": {
   "base_numbering": 1,
   "nav_menu": {},
   "number_sections": true,
   "sideBar": true,
   "skip_h1_title": false,
   "title_cell": "Table of Contents",
   "title_sidebar": "Contents",
   "toc_cell": false,
   "toc_position": {},
   "toc_section_display": true,
   "toc_window_display": false
  }
 },
 "nbformat": 4,
 "nbformat_minor": 5
}
